{
 "cells": [
  {
   "cell_type": "code",
   "execution_count": 48,
   "id": "68581bf6",
   "metadata": {},
   "outputs": [
    {
     "name": "stdout",
     "output_type": "stream",
     "text": [
      "Enter sepal_length: 1\n",
      "Enter sepa_width: 2\n",
      "Enter petal_length: 2\n",
      "Enter petal_width: 1\n",
      "['Iris-setosa']\n"
     ]
    },
    {
     "name": "stderr",
     "output_type": "stream",
     "text": [
      "c:\\users\\monke\\appdata\\local\\programs\\python\\python39-32\\lib\\site-packages\\sklearn\\base.py:445: UserWarning: X does not have valid feature names, but SVC was fitted with feature names\n",
      "  warnings.warn(\n"
     ]
    },
    {
     "data": {
      "image/png": "[encoded data removed]",
      "text/plain": [
       "<Figure size 576x396 with 1 Axes>"
      ]
     },
     "metadata": {},
     "output_type": "display_data"
    }
   ],
   "source": [
    "import numpy as np\n",
    "import pandas as pd\n",
    "from sklearn import datasets\n",
    "from sklearn.datasets import make_classification\n",
    "from sklearn.model_selection import train_test_split\n",
    "from sklearn.linear_model import LinearRegression\n",
    "from sklearn.naive_bayes import GaussianNB\n",
    "from sklearn import tree\n",
    "from sklearn.ensemble import RandomForestClassifier\n",
    "from sklearn import svm\n",
    "from sklearn.svm import SVC\n",
    "from sklearn.svm import LinearSVC\n",
    "import matplotlib as mpl\n",
    "import matplotlib.pyplot as plt\n",
    "%matplotlib inline\n",
    "\n",
    "plt.style.use(['seaborn-notebook'])\n",
    "\n",
    "# Load dataset\n",
    "df = pd.read_csv(r\"D:\\irisfollower\\iris\\iris\\iris\\iris.csv\")\n",
    "\n",
    "# Split into training data and test data\n",
    "X = df[['sepal_length','sepal_width','petal_length','petal_width']]\n",
    "y = df['classification']\n",
    "\n",
    "# Create training and testing vars, It’s usually around 80/20 or 70/30.\n",
    "X_train, X_test, Y_train, Y_test = train_test_split(X, y, test_size=0.20, random_state=1)\n",
    "\n",
    "# Now we’ll fit the model on the training data\n",
    "model = SVC(gamma='auto')\n",
    "\n",
    "model.fit(X_train, Y_train)\n",
    "\n",
    "predictions = model.predict(X_train)\n",
    "\n",
    "\n",
    "#모델\n",
    "pd.to_pickle(model,r'D:\\irisfollower\\iris\\iris\\iris\\new_model.c')\n",
    "\n",
    "#pickle 모델 사용하기\n",
    "model = pd.read_pickle(r'D:\\irisfollower\\iris\\iris\\iris\\new_model.pickle') \n",
    "\n",
    "sepal_length = float(input(\"Enter sepal_length: \"))\n",
    "sepal_width = float(input(\"Enter sepa_width: \"))\n",
    "petal_length = float(input(\"Enter petal_length: \"))\n",
    "petal_width = float(input(\"Enter petal_width: \"))\n",
    "\n",
    "#2차원 그래프 모습으로 나옴\n",
    "result = model.predict([[sepal_length,sepal_width,petal_length,petal_width]]) \n",
    "print(result) \n",
    "\n",
    "data_f = open(\"iris.csv\")\n",
    "\n",
    "classification = []\n",
    "finaldata = []\n",
    "classes = ['Iris-setosa', 'Iris-versicolor', 'Iris-virginica']\n",
    "slices = []\n",
    "\n",
    "for line in data_f: \n",
    "    clifi = line.split(',')\n",
    "    classification.append(clifi[4])\n",
    "    \n",
    "data_f.close\n",
    "finaldata.append(float(classification.count('Iris-setosa\\n')))\n",
    "finaldata.append(float(classification.count('Iris-versicolor\\n')))\n",
    "finaldata.append(float(classification.count('Iris-virginica\\n')))\n",
    "\n",
    "colors = ['Blue', 'Red', 'Yellow']\n",
    "explode = [0.0, 0.0, 0.0]\n",
    "\n",
    "plt.pie(finaldata, explode = explode, autopct = '%2.3f%%', shadow=False, \\\n",
    "        colors = colors, labels = classes)\n",
    "plt.show()"
   ]
  },
  {
   "cell_type": "code",
   "execution_count": null,
   "id": "ab0eb5ad",
   "metadata": {},
   "outputs": [],
   "source": []
  }
 ],
 "metadata": {
  "kernelspec": {
   "display_name": "Python 3 (ipykernel)",
   "language": "python",
   "name": "python3"
  },
  "language_info": {
   "codemirror_mode": {
    "name": "ipython",
    "version": 3
   },
   "file_extension": ".py",
   "mimetype": "text/x-python",
   "name": "python",
   "nbconvert_exporter": "python",
   "pygments_lexer": "ipython3",
   "version": "3.9.0"
  }
 },
 "nbformat": 4,
 "nbformat_minor": 5
}
